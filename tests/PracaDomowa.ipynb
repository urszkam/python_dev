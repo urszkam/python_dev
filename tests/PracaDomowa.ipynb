{
 "cells": [
  {
   "cell_type": "markdown",
   "id": "25156e4d",
   "metadata": {
    "pycharm": {
     "name": "#%% md\n"
    }
   },
   "source": [
    "Głównym celem pierwszej pracy domowej jest opublikowanie w Internecie naszej aplikacji napisanej w Pythonie. \n",
    "Pozwoli to nam w dalszych etapach kursu na skupienie się na innych zagadnieniach związanych z web developmentem \n",
    "w języku Python. Podczas wykładu przekazaliśmy wskazówki jak zrobić deploy aplikacji na Heroku.com. \n",
    "Uznajemy więc ten sposób za preferowany. Ocenimy tylko te prace które będą dostępne publicznie."
   ]
  },
  {
   "cell_type": "markdown",
   "id": "1150d64b",
   "metadata": {
    "pycharm": {
     "name": "#%% md\n"
    }
   },
   "source": [
    "#### UWAGA NR 1"
   ]
  },
  {
   "cell_type": "markdown",
   "id": "7cbb1f08",
   "metadata": {
    "pycharm": {
     "name": "#%% md\n"
    }
   },
   "source": [
    "Praca domowa sprawdzana będzie **AUTOMATYCZNIE** dlatego bardzo ważne jest, żeby wasze aplikacje zwracały dokładnie to o co proszono w poleceniu. Jeżeli aplikacja zwróci np. `Hello Wurld!` albo `hello world!` zamiast `Hello World!`, rozwiązanie nie przejdzie testu."
   ]
  },
  {
   "cell_type": "markdown",
   "id": "68cf2d21",
   "metadata": {
    "pycharm": {
     "name": "#%% md\n"
    }
   },
   "source": [
    "#### UWAGA NR 2"
   ]
  },
  {
   "cell_type": "markdown",
   "id": "caef6720",
   "metadata": {
    "pycharm": {
     "name": "#%% md\n"
    }
   },
   "source": [
    "Jako, że wasze aplikacje są hostowane na zewnętrznym hostingu w zadaniach, gdzie mamy taki szablon:"
   ]
  },
  {
   "cell_type": "code",
   "execution_count": 13,
   "id": "ca4083eb",
   "metadata": {
    "pycharm": {
     "name": "#%%\n"
    }
   },
   "outputs": [],
   "source": [
    "class HerokuApp:\n",
    "    app_url = \"\""
   ]
  },
  {
   "cell_type": "markdown",
   "id": "b57b803e",
   "metadata": {
    "tags": [],
    "pycharm": {
     "name": "#%% md\n"
    }
   },
   "source": [
    "Podajemy tylko adres url aplikacji pomiędzy cudzysłowy."
   ]
  },
  {
   "cell_type": "markdown",
   "id": "6ee71682",
   "metadata": {
    "pycharm": {
     "name": "#%% md\n"
    }
   },
   "source": [
    "### Zadanie 1.1"
   ]
  },
  {
   "cell_type": "markdown",
   "id": "a786552a",
   "metadata": {
    "pycharm": {
     "name": "#%% md\n"
    }
   },
   "source": [
    "Na rozgrzewkę, zacznijmy od czegoś prostego. Stwórz endpoint pod główną ścieżką `/`, który zwróci kod `HTTP 200` oraz wiadomość w formacie json:"
   ]
  },
  {
   "cell_type": "code",
   "execution_count": 2,
   "id": "ab130491",
   "metadata": {
    "pycharm": {
     "name": "#%%\n"
    }
   },
   "outputs": [
    {
     "data": {
      "text/plain": [
       "{'start': '1970-01-01'}"
      ]
     },
     "execution_count": 2,
     "metadata": {},
     "output_type": "execute_result"
    }
   ],
   "source": [
    "{\"start\": \"1970-01-01\"}"
   ]
  },
  {
   "cell_type": "markdown",
   "id": "46ff4615",
   "metadata": {
    "pycharm": {
     "name": "#%% md\n"
    }
   },
   "source": [
    "### Zadanie 1.2"
   ]
  },
  {
   "cell_type": "markdown",
   "id": "a6b475a7",
   "metadata": {
    "pycharm": {
     "name": "#%% md\n"
    }
   },
   "source": [
    "Drugie zadanie wymaga sprawdzenia czy potraficie rozpoznać metodę requestu. Stwórz endpoint pod ściężką `/method`, która dla jednej z wybranych metod: `GET`, `POST`, `DELETE`, `PUT`, `OPTIONS`, zwróci wiadomość w formacie json z odpowiednią metodą, np:"
   ]
  },
  {
   "cell_type": "code",
   "execution_count": 15,
   "id": "d0cd043f",
   "metadata": {
    "pycharm": {
     "name": "#%%\n"
    }
   },
   "outputs": [
    {
     "data": {
      "text/plain": [
       "{'method': 'GET'}"
      ]
     },
     "execution_count": 15,
     "metadata": {},
     "output_type": "execute_result"
    }
   ],
   "source": [
    "{\"method\": \"GET\"}"
   ]
  },
  {
   "cell_type": "markdown",
   "id": "85057c46",
   "metadata": {
    "pycharm": {
     "name": "#%% md\n"
    }
   },
   "source": [
    "oraz odpowiedni kod HTTP:\n",
    "- dla metod `GET`, `PUT`, `OPTIONS`, `DELETE`: 200\n",
    "- dla metody `POST`: 201"
   ]
  },
  {
   "cell_type": "markdown",
   "id": "b0ef8b09",
   "metadata": {
    "pycharm": {
     "name": "#%% md\n"
    }
   },
   "source": [
    "### Zadanie 1.3"
   ]
  },
  {
   "cell_type": "markdown",
   "id": "b9848c64",
   "metadata": {
    "pycharm": {
     "name": "#%% md\n"
    }
   },
   "source": [
    "Skoro już umiemy zwrócić odpowiedni kod błędu oraz sprawdzić metodę requestu, czas na walidację przychodzących danych. Stwórz endpoint `/day` dla metody GET, który sprawdzi przychodzące dwa parametry `name` oraz `number`. Jeżeli parametr `name` będzie zawierał angielską nazwę dnia tygodnia, któremu (w tygodniu zaczynającym się od poniedziałku) przypada numer (zaczynając od 1) z paramaetru `number`,   endpoint ma zwrócić kod `HTTP 200`. W pozostałych przypadkach, w tym również pustych wartości tych parametrów, oczekiwany kod HTTP to `400`."
   ]
  },
  {
   "cell_type": "markdown",
   "id": "9b3bf4c4",
   "metadata": {
    "pycharm": {
     "name": "#%% md\n"
    }
   },
   "source": [
    "#### Przykład 1:\n",
    "dla requestu `/day?name=monday&number=1` aplikacja powinna zwrócić kod `HTTP 200`"
   ]
  },
  {
   "cell_type": "markdown",
   "id": "df657f03",
   "metadata": {
    "pycharm": {
     "name": "#%% md\n"
    }
   },
   "source": [
    "#### Przykład 2:\n",
    "dla requestu `/day?name=tuesday&number=3` aplikacja powinna zwrócić kod `HTTP 400`"
   ]
  },
  {
   "cell_type": "code",
   "execution_count": null,
   "id": "798c288c",
   "metadata": {
    "pycharm": {
     "name": "#%%\n"
    }
   },
   "outputs": [],
   "source": [
    "#### Przykład 3:\n",
    "dla requestu `/day?name=sunday&number=7` aplikacja powinna zwrócić kod `HTTP 200`"
   ]
  },
  {
   "cell_type": "markdown",
   "id": "eb02b2c2",
   "metadata": {
    "pycharm": {
     "name": "#%% md\n"
    }
   },
   "source": [
    "### Zadanie 1.4"
   ]
  },
  {
   "cell_type": "markdown",
   "id": "0eb7efd8",
   "metadata": {
    "pycharm": {
     "name": "#%% md\n"
    }
   },
   "source": [
    "Stwórzmy prosty kalendarz. Dodaj do aplikacji endpoint PUT `/events`. Endpoint powinen przyjąć JSON z datą - w formacie YYYY-MM-DD, oraz nazwą wydarzenia"
   ]
  },
  {
   "cell_type": "code",
   "execution_count": 3,
   "id": "624e714b",
   "metadata": {
    "pycharm": {
     "name": "#%%\n"
    }
   },
   "outputs": [
    {
     "data": {
      "text/plain": [
       "{'date': '2022-02-02', 'event': 'Dzień Dwójek'}"
      ]
     },
     "execution_count": 3,
     "metadata": {},
     "output_type": "execute_result"
    }
   ],
   "source": [
    "{\n",
    "    \"date\": \"2022-02-02\",\n",
    "    \"event\": \"Dzień Dwójek\"\n",
    "}"
   ]
  },
  {
   "cell_type": "markdown",
   "id": "840e9c01",
   "metadata": {
    "pycharm": {
     "name": "#%% md\n"
    }
   },
   "source": [
    "Po przeprocesowaniu inputu, aplikacja ma zwrócić kod HTTP 201 oraz następującego jsona:"
   ]
  },
  {
   "cell_type": "code",
   "execution_count": 4,
   "id": "91dc43c1",
   "metadata": {
    "pycharm": {
     "name": "#%%\n"
    }
   },
   "outputs": [
    {
     "data": {
      "text/plain": [
       "{'id': 1,\n",
       " 'event': 'Dzień Dwójek',\n",
       " 'date': '2022-02-02',\n",
       " 'date_added': '2022-05-10'}"
      ]
     },
     "execution_count": 4,
     "metadata": {},
     "output_type": "execute_result"
    }
   ],
   "source": [
    "{\n",
    "    \"id\": 0,\n",
    "    \"event\": \"Dzień Dwójek\",\n",
    "    \"date\": \"2022-02-02\",\n",
    "    \"date_added\": \"2022-05-10\"\n",
    "}"
   ]
  },
  {
   "cell_type": "markdown",
   "id": "6910e5a2",
   "metadata": {
    "pycharm": {
     "name": "#%% md\n"
    }
   },
   "source": [
    "gdzie:\n",
    "- `id` to jest kolejny nadany identyfikator wydarzenia\n",
    "- `date` to jest data w której odbywa się wydarzenie\n",
    "- `date_added` to dzień w którym wydarzenie zostało dodane\n",
    "\n",
    "Należy również pamiętać, aby id zaczynać od `0`."
   ]
  },
  {
   "cell_type": "markdown",
   "id": "f494cd42",
   "metadata": {
    "pycharm": {
     "name": "#%% md\n"
    }
   },
   "source": [
    "### Zadanie 1.5"
   ]
  },
  {
   "cell_type": "markdown",
   "id": "681e8cce",
   "metadata": {
    "pycharm": {
     "name": "#%% md\n"
    }
   },
   "source": [
    "No dobra! Skoro mamy już dodawanie wydarzeń, to czas móc pobrać tę informację. Stwórz endpoint `/event/{date}` dla metody `GET`, gdzie parametr `date` jest datą w formacie YYYY-MM-DD. Aplikacja zwraca listę wydarzeń ktorę odbywają się danego dnia."
   ]
  },
  {
   "cell_type": "code",
   "execution_count": 5,
   "id": "6a1187a0",
   "metadata": {
    "pycharm": {
     "name": "#%%\n"
    }
   },
   "outputs": [
    {
     "data": {
      "text/plain": [
       "[{'id': 0,\n",
       "  'event': 'Dzień Dwójek',\n",
       "  'date': '2022-02-02',\n",
       "  'date_added': '2022-05-10'}]"
      ]
     },
     "execution_count": 5,
     "metadata": {},
     "output_type": "execute_result"
    }
   ],
   "source": [
    "# GET /event/2022-02-02\n",
    "\n",
    "[\n",
    "   {\n",
    "    \"id\": 0,\n",
    "    \"event\": \"Dzień Dwójek\",\n",
    "    \"date\": \"2022-02-02\",\n",
    "    \"date_added\": \"2022-05-10\"\n",
    "    }\n",
    "]"
   ]
  },
  {
   "cell_type": "code",
   "execution_count": null,
   "outputs": [],
   "source": [],
   "metadata": {
    "collapsed": false,
    "pycharm": {
     "name": "#%%\n"
    }
   }
  },
  {
   "cell_type": "markdown",
   "id": "b658ea6b",
   "metadata": {
    "pycharm": {
     "name": "#%% md\n"
    }
   },
   "source": [
    "W przypadku gdy danego dnia nie mamy wydarzeń, aplikacja ma zwrócić kod `HTTP 404`. Gdy `date` będzie miało wartość inną niż data, powinniśmy uzyskać kod błędu `400`"
   ]
  },
  {
   "cell_type": "markdown",
   "id": "46f967e7",
   "metadata": {
    "pycharm": {
     "name": "#%% md\n"
    }
   },
   "source": [
    "#### UWAGA"
   ]
  },
  {
   "cell_type": "markdown",
   "id": "1aebda0b",
   "metadata": {
    "pycharm": {
     "name": "#%% md\n"
    }
   },
   "source": [
    "To zadanie wykorzystuje dane, które będą tworzone wczasie testów poprzez endpoint utworzony we wcześniejszym zadaniu. Aby endpoint `/register` oraz `/patient` korzystały z tego samego cache'a należy aplikację uruchomić tylko na jednym workerze. W tym celu na platformie `Heroku` wystarczy dorzucić flagę `--workers 1` do Procfile'a."
   ]
  }
 ],
 "metadata": {
  "kernelspec": {
   "display_name": "Python 3 (ipykernel)",
   "language": "python",
   "name": "python3"
  },
  "language_info": {
   "codemirror_mode": {
    "name": "ipython",
    "version": 3
   },
   "file_extension": ".py",
   "mimetype": "text/x-python",
   "name": "python",
   "nbconvert_exporter": "python",
   "pygments_lexer": "ipython3",
   "version": "3.9.6"
  }
 },
 "nbformat": 4,
 "nbformat_minor": 5
}